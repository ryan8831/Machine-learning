{
 "cells": [
  {
   "cell_type": "code",
   "execution_count": 3,
   "metadata": {},
   "outputs": [
    {
     "name": "stderr",
     "output_type": "stream",
     "text": [
      "<ipython-input-3-7806af74d35e>:6: VisibleDeprecationWarning: Creating an ndarray from ragged nested sequences (which is a list-or-tuple of lists-or-tuples-or ndarrays with different lengths or shapes) is deprecated. If you meant to do this, you must specify 'dtype=object' when creating the ndarray\n",
      "  data = np.array([\n"
     ]
    },
    {
     "ename": "AttributeError",
     "evalue": "'numpy.ndarray' object has no attribute 'pd'",
     "output_type": "error",
     "traceback": [
      "\u001b[1;31m---------------------------------------------------------------------------\u001b[0m",
      "\u001b[1;31mAttributeError\u001b[0m                            Traceback (most recent call last)",
      "\u001b[1;32m<ipython-input-3-7806af74d35e>\u001b[0m in \u001b[0;36m<module>\u001b[1;34m\u001b[0m\n\u001b[0;32m     14\u001b[0m ((1, 0.4, -0.6), 1)])\n\u001b[0;32m     15\u001b[0m \u001b[1;33m\u001b[0m\u001b[0m\n\u001b[1;32m---> 16\u001b[1;33m \u001b[0mX\u001b[0m\u001b[1;33m=\u001b[0m\u001b[0mdata\u001b[0m\u001b[1;33m.\u001b[0m\u001b[0mpd\u001b[0m\u001b[1;33m.\u001b[0m\u001b[0miloc\u001b[0m\u001b[1;33m[\u001b[0m\u001b[1;33m:\u001b[0m\u001b[1;33m,\u001b[0m\u001b[1;33m[\u001b[0m\u001b[1;36m0\u001b[0m\u001b[1;33m,\u001b[0m\u001b[1;36m1\u001b[0m\u001b[1;33m]\u001b[0m\u001b[1;33m]\u001b[0m  \u001b[1;31m#提取特征\u001b[0m\u001b[1;33m\u001b[0m\u001b[1;33m\u001b[0m\u001b[0m\n\u001b[0m\u001b[0;32m     17\u001b[0m \u001b[0my\u001b[0m\u001b[1;33m=\u001b[0m\u001b[0mdata\u001b[0m\u001b[1;33m[\u001b[0m\u001b[1;36m2\u001b[0m\u001b[1;33m]\u001b[0m   \u001b[1;31m#提取目標\u001b[0m\u001b[1;33m\u001b[0m\u001b[1;33m\u001b[0m\u001b[0m\n\u001b[0;32m     18\u001b[0m \u001b[1;33m\u001b[0m\u001b[0m\n",
      "\u001b[1;31mAttributeError\u001b[0m: 'numpy.ndarray' object has no attribute 'pd'"
     ]
    },
    {
     "data": {
      "image/png": "[encoded data removed]",
      "text/plain": [
       "<Figure size 432x288 with 1 Axes>"
      ]
     },
     "metadata": {
      "needs_background": "light"
     },
     "output_type": "display_data"
    }
   ],
   "source": [
    "import pandas as pd\n",
    "import matplotlib.pyplot as plt\n",
    "\n",
    "import numpy as np\n",
    "fig,ax=plt.subplots()\n",
    "data = np.array([\n",
    "((1, -0.4, 0.3), -1),\n",
    "((1, -0.3, -0.1), -1),\n",
    "((1, -0.2, 0.4), -1),\n",
    "((1, -0.1, 0.1), -1),\n",
    "((1, 0.9, -0.5), 1),\n",
    "((1, 0.7, -0.9), 1),\n",
    "((1, 0.8, 0.2), 1),\n",
    "((1, 0.4, -0.6), 1)])\n",
    "\n",
    "X=data.iloc[:,[0,1]]  #提取特征\n",
    "y=data[2]   #提取目標\n",
    "\n",
    "###把數據歸一化###\n",
    "mean=X.mean(axis=0)\n",
    "sigma=X.std(axis=0)\n",
    "X=(X-mean)/sigma\n",
    "\n",
    "###提取不同類別的數據，用於畫圖###\n",
    "x_positive=X[y==1]\n",
    "x_negative=X[y==-1]\n",
    "\n",
    "ax.scatter(x_positive[0],x_positive[1],marker=\"o\",label=\"y=+1\")\n",
    "ax.scatter(x_negative[0],x_negative[1],marker=\"x\",label=\"y=-1\")\n",
    "ax.legend()\n",
    "ax.set_xlabel(\"x1\")\n",
    "ax.set_ylabel(\"x2\")\n",
    "ax.set_title(\"standardized Data\")\n",
    "\n",
    "X[2]=np.ones((X.shape[0],1))   #增加一列常數項\n",
    "X=X.values    #把特征轉換成ndarray格式\n",
    "\n",
    "###初始化w###\n",
    "w=X[0].copy()  #選取原點到第一個點的向量作為w的初始值\n",
    "w[2]=0  #增加一項---閾值，閾值初始化為0\n",
    "w=w.reshape(3,1)\n",
    "\n",
    "y=y.values.reshape(100,1)  #把目標轉換成ndarray格式，形狀和預測目標相同\n",
    "    \n",
    "def compare(X,w,y):\n",
    "    ###用於比較預測目標y_pred和實際目標y是否相符，返回分類錯誤的地方loc_wrong###\n",
    "    ###輸入特征，權重，目標###\n",
    "    scores=np.dot(X,w)  #把特征和權重點乘，得到此參數下預測出的目標分數\n",
    "    \n",
    "    y_pred=np.ones((scores.shape[0],1))  #設置預測目標，初始化值全為1，形狀和目標分數相同\n",
    "    \n",
    "    loc_negative=np.where(scores<0)[0]  #標記分數為負數的地方\n",
    "    y_pred[loc_negative]=-1  #使標記為負數的地方預測目標變為-1\n",
    "    \n",
    "    loc_wrong=np.where(y_pred!=y)[0]  #標記分類錯誤的地方\n",
    "    \n",
    "    return loc_wrong\n",
    "\n",
    "def update(X,w,y):\n",
    "    ###用於更新權重w，返回更新後的權重w###\n",
    "    ###輸入特征，權重，目標###\n",
    "    num=len(compare(X,w,y)) #分類錯誤點的個數\n",
    "    w=w+y[compare(X,w,y)][np.random.choice(num)]*X[compare(X,w,y),:][np.random.choice(num)].reshape(3,1)\n",
    "    return w\n",
    "\n",
    "def perceptron_pocket(X,w,y):\n",
    "    ###感知機口袋算法，顯示n次叠代後最好的權重和分類直線，並畫出分類直線###\n",
    "    ###輸入特征，初始權重，目標###\n",
    "    best_len=len(compare(X,w,y))  #初始化最少的分類錯誤點個數\n",
    "    best_w=w  #初始化口袋裏最好的參數w\n",
    "    for i in range(100):\n",
    "        print(\"錯誤分類點有{}個。\".format(len(compare(X,w,y))))\n",
    "        w=update(X,w,y)\n",
    "        #如果當前參數下分類錯誤點個數小於最少的分類錯誤點個數，那麽更新最少的分類錯誤點個數和口袋裏最好的參數w\n",
    "        if len(compare(X,w,y))<best_len:\n",
    "            best_len=len(compare(X,w,y))\n",
    "            best_w=w\n",
    "\n",
    "    print(\"參數best_w:{}\".format(best_w))\n",
    "    print(\"分類直線:{}x1+{}x2+{}=0\".format(best_w[0][0],best_w[1][0],best_w[2][0]))\n",
    "    print(\"最少分類錯誤點的個數:{}個\".format(best_len))\n",
    "    line_x=np.linspace(-3,3,10)\n",
    "    line_y=(-best_w[2]-best_w[0]*line_x)/best_w[1]\n",
    "    ax.plot(line_x,line_y)\n",
    "\n",
    "plt.show()"
   ]
  },
  {
   "cell_type": "code",
   "execution_count": null,
   "metadata": {},
   "outputs": [],
   "source": []
  }
 ],
 "metadata": {
  "kernelspec": {
   "display_name": "Python 3",
   "language": "python",
   "name": "python3"
  },
  "language_info": {
   "codemirror_mode": {
    "name": "ipython",
    "version": 3
   },
   "file_extension": ".py",
   "mimetype": "text/x-python",
   "name": "python",
   "nbconvert_exporter": "python",
   "pygments_lexer": "ipython3",
   "version": "3.8.5"
  }
 },
 "nbformat": 4,
 "nbformat_minor": 4
}
