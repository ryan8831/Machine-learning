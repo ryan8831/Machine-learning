{
 "cells": [
  {
   "cell_type": "code",
   "execution_count": null,
   "metadata": {},
   "outputs": [],
   "source": [
    "import matplotlib.pyplot as plt\n",
    "import numpy as np\n",
    "\n",
    "#網路上找的dataset 可以線性分割\n",
    "\n",
    "dataset = np.array([\n",
    "((1, -0.4, 0.3), -1),\n",
    "((1, -0.3, -0.1), -1),\n",
    "((1, -0.2, 0.4), -1),\n",
    "((1, -0.1, 0.1), -1),\n",
    "((1, 0.9, -0.5), 1),\n",
    "((1, 0.7, -0.9), 1),\n",
    "((1, 0.8, 0.2), 1),\n",
    "((1, 0.4, -0.6), 1)])\n",
    "\n",
    "#判斷有沒有分類錯誤，並列印錯誤率\n",
    "\n",
    "def check_error(w, dataset):\n",
    "    result = None\n",
    "    error = 0\n",
    "    for x, s in dataset:\n",
    "        x = np.array(x)\n",
    "        if int(np.sign(w.T.dot(x))) != s:\n",
    "            result =  x, s\n",
    "            error += 1\n",
    "    print  \"error=%s/%s\" % (error, len(dataset))\n",
    "    return result\n",
    "\n",
    "#PLA演演算法實作\n",
    "\n",
    "def pla(dataset):\n",
    "    w = np.zeros(3)\n",
    "    while check_error(w, dataset) is not None:\n",
    "        x, s = check_error(w, dataset)\n",
    "        w += s * x\n",
    "    return w\n",
    "\n",
    "\n",
    "#執行\n",
    "\n",
    "w = pla(dataset)\n",
    "\n",
    "#畫圖\n",
    "\n",
    "ps = [v[0] for v in dataset]\n",
    "fig = plt.figure()\n",
    "ax1 = fig.add_subplot(111)\n",
    "#dataset前半後半已經分割好 直接畫就是\n",
    "\n",
    "ax1.scatter([v[1] for v in ps[:4]], [v[2] for v in ps[:4]], s=10, c='b', marker=\"o\", label='O')\n",
    "ax1.scatter([v[1] for v in ps[4:]], [v[2] for v in ps[4:]], s=10, c='r', marker=\"x\", label='X')\n",
    "l = np.linspace(-2,2)\n",
    "a,b = -w[1]/w[2], -w[0]/w[2]\n",
    "ax1.plot(l, a*l + b, 'b-')\n",
    "plt.legend(loc='upper left');\n",
    "plt.show()"
   ]
  }
 ],
 "metadata": {
  "kernelspec": {
   "display_name": "Python 3",
   "language": "python",
   "name": "python3"
  },
  "language_info": {
   "codemirror_mode": {
    "name": "ipython",
    "version": 3
   },
   "file_extension": ".py",
   "mimetype": "text/x-python",
   "name": "python",
   "nbconvert_exporter": "python",
   "pygments_lexer": "ipython3",
   "version": "3.8.5"
  }
 },
 "nbformat": 4,
 "nbformat_minor": 4
}
