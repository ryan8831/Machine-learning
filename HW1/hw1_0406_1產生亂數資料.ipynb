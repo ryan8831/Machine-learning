{
 "cells": [
  {
   "cell_type": "code",
   "execution_count": 1,
   "metadata": {},
   "outputs": [],
   "source": [
    "import numpy as np\n",
    "import time\n",
    "import pandas as pd\n",
    "import matplotlib.pyplot as plt\n",
    "import random"
   ]
  },
  {
   "cell_type": "code",
   "execution_count": 6,
   "metadata": {},
   "outputs": [],
   "source": [
    "def rand_samples(m,b,num,rand_param):\n",
    "    x_axis,y_axis,labels=np.array([]), np.array([]), np.array([])\n",
    "    if(m>=0):\n",
    "        c=1\n",
    "    else:\n",
    "        c=-1\n",
    "    pos_num = int(num / 2)\n",
    "    neg_num = num-pos_num\n",
    "    \n",
    "    for state,num in[['pos', pos_num], ['neg', neg_num]]:\n",
    "        x = np.random.randint(0, rand_param,num)\n",
    "        r = np.random.randint(1, rand_param,num)\n",
    "        y_line=m*x+b\n",
    "        if state == 'pos':\n",
    "            y=m*x+b-(r*c)\n",
    "            for i in range(len(y)):\n",
    "                for j in range(len(y_line)):\n",
    "                    if(y[i]==y_line[j]):\n",
    "                        y-=1\n",
    "            labels = np.append(labels, np.ones(num, dtype=int))\n",
    "        else:\n",
    "            y=m*x+b+(r*c)\n",
    "            for i in range(len(y)):\n",
    "                for j in range(len(y_line)):\n",
    "                    if(y[i]==y_line[j]):\n",
    "                        y+=1\n",
    "            labels = np.append(labels,-1*np.ones(num, dtype=int))\n",
    "        x_axis=np.append(x_axis,x)\n",
    "        y_axis=np.append(y_axis,y)          \n",
    "        \n",
    "    return x_axis,y_axis,labels\n",
    "            \n",
    "            "
   ]
  },
  {
   "cell_type": "code",
   "execution_count": 7,
   "metadata": {},
   "outputs": [
    {
     "data": {
      "text/plain": [
       "[<matplotlib.lines.Line2D at 0x8f137c0>]"
      ]
     },
     "execution_count": 7,
     "metadata": {},
     "output_type": "execute_result"
    },
    {
     "data": {
      "image/png": "[encoded data removed]",
      "text/plain": [
       "<Figure size 432x288 with 1 Axes>"
      ]
     },
     "metadata": {
      "needs_background": "light"
     },
     "output_type": "display_data"
    }
   ],
   "source": [
    "m,b=2,1\n",
    "num=30\n",
    "rand_param=30\n",
    "pos_num=int(num/2)\n",
    "x=np.arange(rand_param+1)\n",
    "y=m*x+b\n",
    "plt.plot(x,y)#(0,1)->(30,62)\n",
    "x_axis,y_axis,labels=rand_samples(m,b,num,rand_param)\n",
    "plt.plot(x_axis[:pos_num],y_axis[:pos_num],'o',color=\"blue\")\n",
    "plt.plot(x_axis[pos_num:],y_axis[pos_num:],'o',color=\"red\")"
   ]
  },
  {
   "cell_type": "code",
   "execution_count": null,
   "metadata": {},
   "outputs": [],
   "source": []
  }
 ],
 "metadata": {
  "kernelspec": {
   "display_name": "Python 3",
   "language": "python",
   "name": "python3"
  },
  "language_info": {
   "codemirror_mode": {
    "name": "ipython",
    "version": 3
   },
   "file_extension": ".py",
   "mimetype": "text/x-python",
   "name": "python",
   "nbconvert_exporter": "python",
   "pygments_lexer": "ipython3",
   "version": "3.8.5"
  }
 },
 "nbformat": 4,
 "nbformat_minor": 4
}
